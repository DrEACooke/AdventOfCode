{
  "nbformat": 4,
  "nbformat_minor": 0,
  "metadata": {
    "colab": {
      "provenance": [],
      "authorship_tag": "ABX9TyPwTVN7QtEB5VT2om4m+ukK",
      "include_colab_link": true
    },
    "kernelspec": {
      "name": "python3",
      "display_name": "Python 3"
    },
    "language_info": {
      "name": "python"
    }
  },
  "cells": [
    {
      "cell_type": "markdown",
      "metadata": {
        "id": "view-in-github",
        "colab_type": "text"
      },
      "source": [
        "<a href=\"https://colab.research.google.com/github/DrEACooke/AdventOfCode/blob/main/Day7.ipynb\" target=\"_parent\"><img src=\"https://colab.research.google.com/assets/colab-badge.svg\" alt=\"Open In Colab\"/></a>"
      ]
    },
    {
      "cell_type": "code",
      "execution_count": 19,
      "metadata": {
        "id": "9_FiBO1mnUac"
      },
      "outputs": [],
      "source": [
        "import numpy as np\n",
        "import itertools"
      ]
    },
    {
      "cell_type": "code",
      "source": [
        "def format_input(inp):\n",
        "  inp_ = list(inp.split('\\n'))\n",
        "  return inp_"
      ],
      "metadata": {
        "id": "TlgD_qJ7nX49"
      },
      "execution_count": 2,
      "outputs": []
    },
    {
      "cell_type": "code",
      "source": [
        "def generate_input(test=True):\n",
        "  if test:\n",
        "    eqns = \"\"\"190: 10 19\n",
        "3267: 81 40 27\n",
        "83: 17 5\n",
        "156: 15 6\n",
        "7290: 6 8 6 15\n",
        "161011: 16 10 13\n",
        "192: 17 8 14\n",
        "21037: 9 7 18 13\n",
        "292: 11 6 16 20\"\"\"\n",
        "    return format_input(eqns)\n",
        "  else:\n",
        "    return format_input(input)"
      ],
      "metadata": {
        "id": "uuwtl8JbnZJR"
      },
      "execution_count": 3,
      "outputs": []
    },
    {
      "cell_type": "code",
      "source": [
        "def get_nums_and_results(s):\n",
        "  res,nums_ = s.split(':')\n",
        "  res = int(res)\n",
        "  nums = [int(n) for n in nums_.split(' ') if n]\n",
        "  return res, nums"
      ],
      "metadata": {
        "id": "DMl1C27zno6V"
      },
      "execution_count": 11,
      "outputs": []
    },
    {
      "cell_type": "code",
      "source": [
        "def get_operators(nums):\n",
        "  ops_1 = list(itertools.combinations_with_replacement(['*','+'],len(nums)-1))\n",
        "  ops_2 = [itertools.permutations(cc) for cc in ops_1]\n",
        "\n",
        "  flat_ops = [x for ops in ops_2 for x in ops]\n",
        "\n",
        "  flat_ops = list(set(flat_ops))\n",
        "\n",
        "  return flat_ops"
      ],
      "metadata": {
        "id": "4PS6ptCIoyyU"
      },
      "execution_count": 54,
      "outputs": []
    },
    {
      "cell_type": "code",
      "source": [
        "def apply_operators(nums,ops,res):\n",
        "\n",
        "  for combi in ops:\n",
        "    tot = nums[0]\n",
        "    remaining_numbers = iter(nums[1:])\n",
        "\n",
        "    for op in combi:\n",
        "      if '*' in op:\n",
        "        tot *= next(remaining_numbers)\n",
        "      elif '+' in op:\n",
        "        tot += next(remaining_numbers)\n",
        "\n",
        "      if tot > res:\n",
        "        break\n",
        "\n",
        "    if tot == res:\n",
        "      return combi\n",
        "  return None"
      ],
      "metadata": {
        "id": "AZyV9re9qYjJ"
      },
      "execution_count": 57,
      "outputs": []
    },
    {
      "cell_type": "code",
      "source": [
        "eqns = generate_input()\n",
        "outp = list(map(get_nums_and_results,eqns))\n",
        "\n",
        "# Part 1\n",
        "possible_ops = [get_operators(n) for r,n in outp]\n",
        "\n",
        "solutions = [apply_operators(n,ops,res) for (res,n),ops in zip(outp,possible_ops)]\n",
        "\n",
        "sum([r for (r,n),s in zip(outp,solutions) if s is not None])"
      ],
      "metadata": {
        "colab": {
          "base_uri": "https://localhost:8080/"
        },
        "id": "1GBrz-RdniDO",
        "outputId": "84516c00-7a0d-415f-cba3-5cbd74c72a09"
      },
      "execution_count": 62,
      "outputs": [
        {
          "output_type": "execute_result",
          "data": {
            "text/plain": [
              "3749"
            ]
          },
          "metadata": {},
          "execution_count": 62
        }
      ]
    },
    {
      "cell_type": "code",
      "source": [],
      "metadata": {
        "id": "Cc8pZxRfuM6l"
      },
      "execution_count": null,
      "outputs": []
    }
  ]
}