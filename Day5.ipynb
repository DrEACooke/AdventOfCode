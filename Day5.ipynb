{
  "nbformat": 4,
  "nbformat_minor": 0,
  "metadata": {
    "colab": {
      "provenance": [],
      "authorship_tag": "ABX9TyOMYLEJ01RRCMfMENu8IgK0",
      "include_colab_link": true
    },
    "kernelspec": {
      "name": "python3",
      "display_name": "Python 3"
    },
    "language_info": {
      "name": "python"
    }
  },
  "cells": [
    {
      "cell_type": "markdown",
      "metadata": {
        "id": "view-in-github",
        "colab_type": "text"
      },
      "source": [
        "<a href=\"https://colab.research.google.com/github/DrEACooke/AdventOfCode/blob/main/Day5.ipynb\" target=\"_parent\"><img src=\"https://colab.research.google.com/assets/colab-badge.svg\" alt=\"Open In Colab\"/></a>"
      ]
    },
    {
      "cell_type": "code",
      "execution_count": 1,
      "metadata": {
        "id": "X5V0EZqlV6WM"
      },
      "outputs": [],
      "source": [
        "import numpy as np\n",
        "import re"
      ]
    },
    {
      "cell_type": "code",
      "source": [
        "def format_input(inp):\n",
        "  inp_ = list(inp.split('\\n'))\n",
        "  return inp_"
      ],
      "metadata": {
        "id": "sZFg4kSrV_s6"
      },
      "execution_count": 2,
      "outputs": []
    },
    {
      "cell_type": "code",
      "source": [
        "def generate_input(test=True):\n",
        "  if test:\n",
        "    order_rules = \"\"\"47|53\n",
        "97|13\n",
        "97|61\n",
        "97|47\n",
        "75|29\n",
        "61|13\n",
        "75|53\n",
        "29|13\n",
        "97|29\n",
        "53|29\n",
        "61|53\n",
        "97|53\n",
        "61|29\n",
        "47|13\n",
        "75|47\n",
        "97|75\n",
        "47|61\n",
        "75|61\n",
        "47|29\n",
        "75|13\n",
        "53|13\"\"\"\n",
        "\n",
        "    pages = \"\"\"75,47,61,53,29\n",
        "97,61,53,29,13\n",
        "75,29,13\n",
        "75,97,47,61,53\n",
        "61,13,29\n",
        "97,13,75,29,47\"\"\"\n",
        "    return format_input(order_rules), format_input(pages)\n",
        "  else:\n",
        "    return format_input(inp_rules), format_input(inp_pages)"
      ],
      "metadata": {
        "id": "om2WAfpyWCLZ"
      },
      "execution_count": 3,
      "outputs": []
    },
    {
      "cell_type": "code",
      "source": [
        "def format_rules(rules):\n",
        "  tup = [(int(r.split('|')[0]),int(r.split('|')[1])) for r in rules]\n",
        "  return tup"
      ],
      "metadata": {
        "id": "trHmCYf_YQjq"
      },
      "execution_count": 18,
      "outputs": []
    },
    {
      "cell_type": "code",
      "source": [
        "def format_pages(pages):\n",
        "  pgs = [[int(n) for n in p.split(',')] for p in pages ]\n",
        "  return pgs"
      ],
      "metadata": {
        "id": "ZTbctE8DZsPu"
      },
      "execution_count": 23,
      "outputs": []
    },
    {
      "cell_type": "code",
      "source": [
        "def isin_rules(rules,n):\n",
        "  inlist = [rule for rule in rules if n in rule]\n",
        "  return inlist"
      ],
      "metadata": {
        "id": "yzkoK3sQal2d"
      },
      "execution_count": 43,
      "outputs": []
    },
    {
      "cell_type": "code",
      "source": [
        "def is_before(l,a,b):\n",
        "  if not((a in l) and (b in l)):\n",
        "    return True\n",
        "  if l.index(a) < l.index(b):\n",
        "    return True\n",
        "  else:\n",
        "    return False"
      ],
      "metadata": {
        "id": "QcLlR-afX7xe"
      },
      "execution_count": 64,
      "outputs": []
    },
    {
      "cell_type": "code",
      "source": [
        "def page_valid(page,rules):\n",
        "  for r in rules:\n",
        "    if is_before(page,r[0],r[1]):\n",
        "      continue\n",
        "    else:\n",
        "      return False\n",
        "  return True"
      ],
      "metadata": {
        "id": "Iz803TYHge9_"
      },
      "execution_count": 56,
      "outputs": []
    },
    {
      "cell_type": "code",
      "source": [
        "def process_valid(pages, rules):\n",
        "  valid = pages.copy()\n",
        "\n",
        "  for pg in pages:\n",
        "    rules_apply = list(set([item for n in pg for item in isin_rules(rules,n)]))\n",
        "\n",
        "    if not page_valid(pg,rules_apply):\n",
        "      valid.remove(pg)\n",
        "\n",
        "  return valid"
      ],
      "metadata": {
        "id": "I7ARLnUEc4wA"
      },
      "execution_count": 71,
      "outputs": []
    },
    {
      "cell_type": "code",
      "source": [
        "def get_middle(l):\n",
        "  return l[len(l)//2]"
      ],
      "metadata": {
        "id": "IRQnCa8TXZzM"
      },
      "execution_count": 72,
      "outputs": []
    },
    {
      "cell_type": "code",
      "source": [
        "def sum_middles(pages):\n",
        "  return sum([get_middle(pg) for pg in pages])"
      ],
      "metadata": {
        "id": "InMBnJMliclQ"
      },
      "execution_count": 73,
      "outputs": []
    },
    {
      "cell_type": "code",
      "source": [
        "rules,pages = generate_input()\n",
        "rules_tuple = format_rules(rules)\n",
        "pages_list = format_pages(pages)\n",
        "\n",
        "valid_pages = process_valid(pages_list,rules_tuple)\n",
        "\n",
        "sum_middles(valid_pages)"
      ],
      "metadata": {
        "colab": {
          "base_uri": "https://localhost:8080/"
        },
        "id": "9NmXJEYQXLln",
        "outputId": "0fddaa7d-f80a-4efa-97fc-cd65ca7a9d42"
      },
      "execution_count": 74,
      "outputs": [
        {
          "output_type": "execute_result",
          "data": {
            "text/plain": [
              "143"
            ]
          },
          "metadata": {},
          "execution_count": 74
        }
      ]
    },
    {
      "cell_type": "code",
      "source": [],
      "metadata": {
        "id": "ZX4RZaC0XMzN"
      },
      "execution_count": null,
      "outputs": []
    }
  ]
}