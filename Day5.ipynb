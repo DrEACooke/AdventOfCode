{
  "nbformat": 4,
  "nbformat_minor": 0,
  "metadata": {
    "colab": {
      "provenance": [],
      "authorship_tag": "ABX9TyMIX7yDh5BSGWHijr+sAp9H",
      "include_colab_link": true
    },
    "kernelspec": {
      "name": "python3",
      "display_name": "Python 3"
    },
    "language_info": {
      "name": "python"
    }
  },
  "cells": [
    {
      "cell_type": "markdown",
      "metadata": {
        "id": "view-in-github",
        "colab_type": "text"
      },
      "source": [
        "<a href=\"https://colab.research.google.com/github/DrEACooke/AdventOfCode/blob/main/Day5.ipynb\" target=\"_parent\"><img src=\"https://colab.research.google.com/assets/colab-badge.svg\" alt=\"Open In Colab\"/></a>"
      ]
    },
    {
      "cell_type": "code",
      "execution_count": 1,
      "metadata": {
        "id": "X5V0EZqlV6WM"
      },
      "outputs": [],
      "source": [
        "import numpy as np\n",
        "import re"
      ]
    },
    {
      "cell_type": "code",
      "source": [
        "def format_input(inp):\n",
        "  inp_ = list(inp.split('\\n'))\n",
        "  return inp_"
      ],
      "metadata": {
        "id": "sZFg4kSrV_s6"
      },
      "execution_count": 2,
      "outputs": []
    },
    {
      "cell_type": "code",
      "source": [
        "def generate_input(test=True):\n",
        "  if test:\n",
        "    order_rules = \"\"\"47|53\n",
        "97|13\n",
        "97|61\n",
        "97|47\n",
        "75|29\n",
        "61|13\n",
        "75|53\n",
        "29|13\n",
        "97|29\n",
        "53|29\n",
        "61|53\n",
        "97|53\n",
        "61|29\n",
        "47|13\n",
        "75|47\n",
        "97|75\n",
        "47|61\n",
        "75|61\n",
        "47|29\n",
        "75|13\n",
        "53|13\"\"\"\n",
        "\n",
        "    pages = \"\"\"75,47,61,53,29\n",
        "97,61,53,29,13\n",
        "75,29,13\n",
        "75,97,47,61,53\n",
        "61,13,29\n",
        "97,13,75,29,47\"\"\"\n",
        "    return format_input(order_rules), format_input(pages)\n",
        "  else:\n",
        "    return format_input(inp_rules), format_input(inp_pages)"
      ],
      "metadata": {
        "id": "om2WAfpyWCLZ"
      },
      "execution_count": 3,
      "outputs": []
    },
    {
      "cell_type": "code",
      "source": [
        "def format_rules(rules):\n",
        "  tup = [(int(r.split('|')[0]),int(r.split('|')[1])) for r in rules]\n",
        "  return tup"
      ],
      "metadata": {
        "id": "trHmCYf_YQjq"
      },
      "execution_count": 18,
      "outputs": []
    },
    {
      "cell_type": "code",
      "source": [
        "def format_pages(pages):\n",
        "  pgs = [[int(n) for n in p.split(',')] for p in pages ]\n",
        "  return pgs"
      ],
      "metadata": {
        "id": "ZTbctE8DZsPu"
      },
      "execution_count": 23,
      "outputs": []
    },
    {
      "cell_type": "code",
      "source": [
        "def isin_rules(rules,n):\n",
        "  inlist = [rule for rule in rules if n in rule]\n",
        "  return inlist"
      ],
      "metadata": {
        "id": "yzkoK3sQal2d"
      },
      "execution_count": 43,
      "outputs": []
    },
    {
      "cell_type": "code",
      "source": [
        "def is_before(l,a,b):\n",
        "  if not((a in l) and (b in l)):\n",
        "    return True\n",
        "  if l.index(a) < l.index(b):\n",
        "    return True\n",
        "  else:\n",
        "    return False"
      ],
      "metadata": {
        "id": "QcLlR-afX7xe"
      },
      "execution_count": 64,
      "outputs": []
    },
    {
      "cell_type": "code",
      "source": [
        "def page_valid(page,rules):\n",
        "  for r in rules:\n",
        "    if is_before(page,r[0],r[1]):\n",
        "      continue\n",
        "    else:\n",
        "      return False\n",
        "  return True"
      ],
      "metadata": {
        "id": "Iz803TYHge9_"
      },
      "execution_count": 56,
      "outputs": []
    },
    {
      "cell_type": "code",
      "source": [
        "def process_valid(pages, rules):\n",
        "  valid = pages.copy()\n",
        "\n",
        "  for pg in pages:\n",
        "    rules_apply = list(set([item for n in pg for item in isin_rules(rules,n)]))\n",
        "\n",
        "    if not page_valid(pg,rules_apply):\n",
        "      valid.remove(pg)\n",
        "\n",
        "  return valid"
      ],
      "metadata": {
        "id": "I7ARLnUEc4wA"
      },
      "execution_count": 71,
      "outputs": []
    },
    {
      "cell_type": "code",
      "source": [
        "def process_invalid(pages, rules):\n",
        "  invalid = pages.copy()\n",
        "  rules_that_apply = []\n",
        "\n",
        "  for pg in pages:\n",
        "    rules_apply = list(set([item for n in pg for item in isin_rules(rules,n)]))\n",
        "\n",
        "    if page_valid(pg,rules_apply):\n",
        "      invalid.remove(pg)\n",
        "    else:\n",
        "      rules_that_apply.append(rules_apply)\n",
        "\n",
        "  return invalid, rules_that_apply"
      ],
      "metadata": {
        "id": "hpMY_f7NjTu6"
      },
      "execution_count": 78,
      "outputs": []
    },
    {
      "cell_type": "code",
      "source": [
        "def reorder(page, rules):\n",
        "  pg = page.copy()\n",
        "\n",
        "  while not page_valid(pg, rules):\n",
        "    for i in range(len(pg)):\n",
        "      for j in range(i+1, len(pg)):\n",
        "        if (pg[j], pg[i]) in rules:\n",
        "          pg[j], pg[i] = pg[i], pg[j]\n",
        "  return pg"
      ],
      "metadata": {
        "id": "Tlf4VbO8j-8A"
      },
      "execution_count": 84,
      "outputs": []
    },
    {
      "cell_type": "code",
      "source": [
        "def get_middle(l):\n",
        "  return l[len(l)//2]"
      ],
      "metadata": {
        "id": "IRQnCa8TXZzM"
      },
      "execution_count": 72,
      "outputs": []
    },
    {
      "cell_type": "code",
      "source": [
        "def sum_middles(pages):\n",
        "  return sum([get_middle(pg) for pg in pages])"
      ],
      "metadata": {
        "id": "InMBnJMliclQ"
      },
      "execution_count": 73,
      "outputs": []
    },
    {
      "cell_type": "code",
      "source": [
        "rules,pages = generate_input(test=True)\n",
        "rules_tuple = format_rules(rules)\n",
        "pages_list = format_pages(pages)\n",
        "\n",
        "#Part 1\n",
        "valid_pages = process_valid(pages_list,rules_tuple)\n",
        "print(sum_middles(valid_pages))\n",
        "\n",
        "# Part 2\n",
        "invalid_pages, rules_to_apply = process_invalid(pages_list, rules_tuple)\n",
        "reordered = [reorder(p, r) for p,r in zip(invalid_pages, rules_to_apply)]\n",
        "print(sum_middles(reordered))"
      ],
      "metadata": {
        "colab": {
          "base_uri": "https://localhost:8080/"
        },
        "id": "9NmXJEYQXLln",
        "outputId": "fe467ba3-6a7a-4077-cd47-f63fc249eed2"
      },
      "execution_count": 89,
      "outputs": [
        {
          "output_type": "stream",
          "name": "stdout",
          "text": [
            "143\n",
            "123\n"
          ]
        }
      ]
    },
    {
      "cell_type": "code",
      "source": [
        "inp_rules = \"\"\"83|24\n",
        "88|31\n",
        "88|42\n",
        "34|24\n",
        "34|74\n",
        "34|89\n",
        "36|99\n",
        "36|84\n",
        "36|71\"\"\"\n",
        "\n",
        "inp_pages = \"\"\"46,98,96,88,42\n",
        "83,87,21,23,12,85,27,89,63,28,97,13,81\n",
        "55,82,85,27,89,63,28,93,13,94,81,11,99,41,54\n",
        "22,35,46,98,66,31,25,71,34,74,96,76,83,42,87,53,21,24,86,23,12\n",
        "35,46,98,66,19,71,34,45,91,74,96,83,42,87,21,23,55\n",
        "67,41,54,84,88,32,22,35,46,98,66,31,25,71,45,91,74,76,87\n",
        "97,41,99,98,25,71,94,34,72,22,54,84,32,19,46\"\"\""
      ],
      "metadata": {
        "id": "EneGtFMXpq7P"
      },
      "execution_count": null,
      "outputs": []
    }
  ]
}