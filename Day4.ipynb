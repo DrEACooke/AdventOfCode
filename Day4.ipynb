{
  "nbformat": 4,
  "nbformat_minor": 0,
  "metadata": {
    "colab": {
      "provenance": [],
      "authorship_tag": "ABX9TyMYIP0zBncTy5UsZt9sJWdF",
      "include_colab_link": true
    },
    "kernelspec": {
      "name": "python3",
      "display_name": "Python 3"
    },
    "language_info": {
      "name": "python"
    }
  },
  "cells": [
    {
      "cell_type": "markdown",
      "metadata": {
        "id": "view-in-github",
        "colab_type": "text"
      },
      "source": [
        "<a href=\"https://colab.research.google.com/github/DrEACooke/AdventOfCode/blob/main/Day4.ipynb\" target=\"_parent\"><img src=\"https://colab.research.google.com/assets/colab-badge.svg\" alt=\"Open In Colab\"/></a>"
      ]
    },
    {
      "cell_type": "code",
      "execution_count": 1,
      "metadata": {
        "id": "epwjECQcs4_o"
      },
      "outputs": [],
      "source": [
        "import numpy as np\n",
        "import re"
      ]
    },
    {
      "cell_type": "code",
      "source": [
        "def format_input(inp):\n",
        "  inp_ = list(inp.split('\\n'))\n",
        "  return inp_"
      ],
      "metadata": {
        "id": "zFenjm-ctOh8"
      },
      "execution_count": 2,
      "outputs": []
    },
    {
      "cell_type": "code",
      "source": [
        "def generate_input(test=True):\n",
        "  if test:\n",
        "    wordsearch = \"\"\"MMMSXXMASM\n",
        "MSAMXMSMSA\n",
        "AMXSXMAAMM\n",
        "MSAMASMSMX\n",
        "XMASAMXAMM\n",
        "XXAMMXXAMA\n",
        "SMSMSASXSS\n",
        "SAXAMASAAA\n",
        "MAMMMXMMMM\n",
        "MXMXAXMASX\"\"\"\n",
        "    return format_input(wordsearch)\n",
        "  else:\n",
        "    return format_input(input)"
      ],
      "metadata": {
        "id": "QXJTBvwFs9Z7"
      },
      "execution_count": 3,
      "outputs": []
    },
    {
      "cell_type": "code",
      "source": [
        "def generate_complex_grid(inp):\n",
        "  grid = {x + 1j * y: val for y, line in enumerate(inp)\n",
        "      for x, val in enumerate(line)}\n",
        "  return grid"
      ],
      "metadata": {
        "id": "RQOrMzupqJV4"
      },
      "execution_count": 4,
      "outputs": []
    },
    {
      "cell_type": "code",
      "source": [
        "def find_word_horizontal_fwd(wordsearch,word):\n",
        "  tot = 0\n",
        "  for row in wordsearch:\n",
        "    tot += len(re.findall(word,row))\n",
        "  return tot\n",
        "\n",
        "def find_word_horizontal_bkwd(wordsearch,word):\n",
        "  tot = 0\n",
        "  w = word[::-1]\n",
        "  for row in wordsearch:\n",
        "    tot += len(re.findall(w,row))\n",
        "  return tot"
      ],
      "metadata": {
        "id": "akuo-hkUtk49"
      },
      "execution_count": 5,
      "outputs": []
    },
    {
      "cell_type": "code",
      "source": [
        "def transpose_wordsearch(wordsearch):\n",
        "  return [''.join(s) for s in zip(*wordsearch)]"
      ],
      "metadata": {
        "id": "MVwsCx79uf5V"
      },
      "execution_count": 6,
      "outputs": []
    },
    {
      "cell_type": "code",
      "source": [
        "def get_letter(wordsearch, i, j):\n",
        "    try:\n",
        "        if i < 0 or j < 0:\n",
        "            raise IndexError\n",
        "        return wordsearch[i][j]\n",
        "    except IndexError:\n",
        "      return None"
      ],
      "metadata": {
        "id": "7YsbwiFGvkVj"
      },
      "execution_count": 7,
      "outputs": []
    },
    {
      "cell_type": "code",
      "source": [
        "def get_diagonals(wordsearch,wordlength=0):\n",
        "  dd = []\n",
        "  for j in range(-len(wordsearch[0])+1, len(wordsearch[0])):\n",
        "    dd.append([get_letter(wordsearch, i, i+j) for i in range(len(wordsearch))])\n",
        "\n",
        "  for j in range(0, 2*len(wordsearch[0])):\n",
        "      dd.append([get_letter(wordsearch, i, -i+j) for i in range(len(wordsearch))])\n",
        "\n",
        "  diagonals = []\n",
        "  for d in dd:\n",
        "      diag = ''.join([l for l in d if l is not None])\n",
        "      if len(diag) >= wordlength:\n",
        "          diagonals.append(diag)\n",
        "\n",
        "  return diagonals"
      ],
      "metadata": {
        "id": "yUXDQ3NExQmy"
      },
      "execution_count": 8,
      "outputs": []
    },
    {
      "cell_type": "code",
      "source": [
        "def find_val(grid,letter):\n",
        "  return [k for k,v in grid.items() if any(letter in s for s in v)]"
      ],
      "metadata": {
        "id": "lNBB8hjSqfx6"
      },
      "execution_count": 9,
      "outputs": []
    },
    {
      "cell_type": "code",
      "source": [
        "def get_corners(grid, coord):\n",
        "  corners = [coord + 1 + 1j, coord - 1 - 1j, coord - 1 + 1j, coord + 1 - 1j]\n",
        "  return [p for p in corners if p in grid]"
      ],
      "metadata": {
        "id": "T6ZP-DvtrPvZ"
      },
      "execution_count": 44,
      "outputs": []
    },
    {
      "cell_type": "code",
      "source": [
        "def find_x_mas(grid, coords):\n",
        "  valid = coords.copy()\n",
        "\n",
        "  for a in coords:\n",
        "    corners = get_corners(grid, a)\n",
        "\n",
        "    if ([grid[c] for c in corners].count('M') == 2) and ([grid[c] for c in corners].count('S') == 2):\n",
        "      pass\n",
        "    else:\n",
        "      valid.remove(a)\n",
        "      continue\n",
        "\n",
        "    if grid[corners[0]] + grid[corners[1]] == 'MS':\n",
        "      pass\n",
        "    elif grid[corners[0]] + grid[corners[1]] == 'SM':\n",
        "      pass\n",
        "    else:\n",
        "      valid.remove(a)\n",
        "  return valid"
      ],
      "metadata": {
        "id": "rGv_1bzcQm4e"
      },
      "execution_count": 54,
      "outputs": []
    },
    {
      "cell_type": "code",
      "source": [
        "#Part 1\n",
        "wordsearch = generate_input(test=False)\n",
        "wordsearch_tr = transpose_wordsearch(wordsearch)\n",
        "\n",
        "hf = find_word_horizontal_fwd(wordsearch,'XMAS')\n",
        "hb = find_word_horizontal_bkwd(wordsearch,'XMAS')\n",
        "vf = find_word_horizontal_fwd(wordsearch_tr,'XMAS')\n",
        "vb = find_word_horizontal_bkwd(wordsearch_tr,'XMAS')\n",
        "\n",
        "diags = get_diagonals(wordsearch,wordlength=4)\n",
        "df = find_word_horizontal_fwd(diags,'XMAS')\n",
        "db = find_word_horizontal_bkwd(diags,'XMAS')\n",
        "\n",
        "print(hf+hb+vf+vb+df+db)"
      ],
      "metadata": {
        "colab": {
          "base_uri": "https://localhost:8080/"
        },
        "id": "jL7ykflntVw-",
        "outputId": "8c277e91-69a4-4832-a0bd-12e944d69d40"
      },
      "execution_count": 29,
      "outputs": [
        {
          "output_type": "stream",
          "name": "stdout",
          "text": [
            "2406\n"
          ]
        }
      ]
    },
    {
      "cell_type": "code",
      "source": [
        "# Part 2\n",
        "wordsearch = generate_input(test=True)\n",
        "\n",
        "grid = generate_complex_grid(wordsearch)\n",
        "\n",
        "all_a = find_val(grid,'A')\n",
        "\n",
        "print(len(find_x_mas(grid, all_a)))"
      ],
      "metadata": {
        "colab": {
          "base_uri": "https://localhost:8080/"
        },
        "id": "qa3u0siro4rC",
        "outputId": "e2a818c1-3bb4-46d3-eb2f-da7af3ca946a"
      },
      "execution_count": 57,
      "outputs": [
        {
          "output_type": "stream",
          "name": "stdout",
          "text": [
            "1807\n"
          ]
        }
      ]
    },
    {
      "cell_type": "code",
      "source": [
        "wordsearch"
      ],
      "metadata": {
        "colab": {
          "base_uri": "https://localhost:8080/"
        },
        "id": "DESH3d7Op7Q3",
        "outputId": "e279236a-4cd6-408e-adef-8141c170b652"
      },
      "execution_count": 35,
      "outputs": [
        {
          "output_type": "execute_result",
          "data": {
            "text/plain": [
              "['MMMSXXMASM',\n",
              " 'MSAMXMSMSA',\n",
              " 'AMXSXMAAMM',\n",
              " 'MSAMASMSMX',\n",
              " 'XMASAMXAMM',\n",
              " 'XXAMMXXAMA',\n",
              " 'SMSMSASXSS',\n",
              " 'SAXAMASAAA',\n",
              " 'MAMMMXMMMM',\n",
              " 'MXMXAXMASX']"
            ]
          },
          "metadata": {},
          "execution_count": 35
        }
      ]
    },
    {
      "cell_type": "code",
      "source": [
        "input = '''MSSMSAMXSAMASMSMSAMMMMMMMXSXSMMSAMXSSSMXMSMMSMXMXSXMMSAMXMSSSSSSMSASMSSMSAMXMSMXSXSMMMX'''"
      ],
      "metadata": {
        "id": "5f50CUxQ6rq4"
      },
      "execution_count": null,
      "outputs": []
    }
  ]
}