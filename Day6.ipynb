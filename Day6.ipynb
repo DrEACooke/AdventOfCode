{
  "nbformat": 4,
  "nbformat_minor": 0,
  "metadata": {
    "colab": {
      "provenance": [],
      "authorship_tag": "ABX9TyNP1Jjs+Nt59oKTOtAw+GUI",
      "include_colab_link": true
    },
    "kernelspec": {
      "name": "python3",
      "display_name": "Python 3"
    },
    "language_info": {
      "name": "python"
    }
  },
  "cells": [
    {
      "cell_type": "markdown",
      "metadata": {
        "id": "view-in-github",
        "colab_type": "text"
      },
      "source": [
        "<a href=\"https://colab.research.google.com/github/DrEACooke/AdventOfCode/blob/main/Day6.ipynb\" target=\"_parent\"><img src=\"https://colab.research.google.com/assets/colab-badge.svg\" alt=\"Open In Colab\"/></a>"
      ]
    },
    {
      "cell_type": "code",
      "execution_count": 1,
      "metadata": {
        "id": "dgpqHUlxc12H"
      },
      "outputs": [],
      "source": [
        "import numpy as np"
      ]
    },
    {
      "cell_type": "code",
      "source": [
        "def format_input(inp):\n",
        "  inp_ = list(inp.split('\\n'))\n",
        "  return inp_"
      ],
      "metadata": {
        "id": "8QVnKVCHc4Hx"
      },
      "execution_count": 2,
      "outputs": []
    },
    {
      "cell_type": "code",
      "source": [
        "def generate_input(test=True):\n",
        "  if test:\n",
        "    map = \"\"\"....#.....\n",
        ".........#\n",
        "..........\n",
        "..#.......\n",
        ".......#..\n",
        "..........\n",
        ".#..^.....\n",
        "........#.\n",
        "#.........\n",
        "......#...\"\"\"\n",
        "    return format_input(map)\n",
        "  else:\n",
        "    return format_input(input)"
      ],
      "metadata": {
        "id": "JafE4kBSc5vo"
      },
      "execution_count": 10,
      "outputs": []
    },
    {
      "cell_type": "code",
      "source": [
        "def generate_complex_grid(inp):\n",
        "  grid = {x + 1j * y: val for y, line in enumerate(inp)\n",
        "      for x, val in enumerate(line)}\n",
        "  return grid"
      ],
      "metadata": {
        "id": "ACrLx9eOc7Wb"
      },
      "execution_count": 15,
      "outputs": []
    },
    {
      "cell_type": "code",
      "source": [
        "def get_current_position(grid):\n",
        "  pos = [k for k, v in grid.items() if v not in ['.','#']]\n",
        "  if len(pos) > 1:\n",
        "    raise ValueError('Multiple positions possible')\n",
        "  else:\n",
        "    return pos[0]"
      ],
      "metadata": {
        "id": "ohksLLBmdWMK"
      },
      "execution_count": 23,
      "outputs": []
    },
    {
      "cell_type": "code",
      "source": [
        "def get_direction(pos):\n",
        "  if pos == '^':\n",
        "    step = -1j\n",
        "  elif pos == '>':\n",
        "    step = +1\n",
        "  elif pos == 'v':\n",
        "    step = +1j\n",
        "  elif pos == '<':\n",
        "    step = -1\n",
        "  else:\n",
        "    raise ValueError('Direction not interpretable')\n",
        "  return step"
      ],
      "metadata": {
        "id": "7BSKeqbtfFYS"
      },
      "execution_count": 39,
      "outputs": []
    },
    {
      "cell_type": "code",
      "source": [
        "def avoid_obstacle(pos):\n",
        "  if pos == '^':\n",
        "    return '>'\n",
        "  elif pos == '>':\n",
        "    return 'v'\n",
        "  elif pos == 'v':\n",
        "    return '<'\n",
        "  elif pos == '<':\n",
        "    return '^'\n",
        "  else:\n",
        "    raise ValueError('Direction not interpretable')"
      ],
      "metadata": {
        "id": "W5QPZsr6gUAT"
      },
      "execution_count": 40,
      "outputs": []
    },
    {
      "cell_type": "code",
      "source": [
        "def move_guard(grid):\n",
        "  pos = get_current_position(grid)\n",
        "  step = get_direction(grid[pos])\n",
        "\n",
        "  record_locations = []\n",
        "\n",
        "  while pos+step in grid:\n",
        "    step = get_direction(grid[pos])\n",
        "    while grid[pos+step] == '.':\n",
        "      record_locations.append(pos)\n",
        "      grid[pos+step] = grid[pos]\n",
        "      grid[pos] = '.'\n",
        "      pos += step\n",
        "      step = get_direction(grid[pos])\n",
        "\n",
        "      if pos+step not in grid:\n",
        "        record_locations.append(pos)\n",
        "        break\n",
        "\n",
        "    grid[pos] = avoid_obstacle(grid[pos])\n",
        "\n",
        "  return record_locations"
      ],
      "metadata": {
        "id": "661MnFgCeyKT"
      },
      "execution_count": 82,
      "outputs": []
    },
    {
      "cell_type": "code",
      "source": [
        "grid = generate_complex_grid(generate_input(test=True))\n",
        "\n",
        "print(len(set(move_guard(grid))))"
      ],
      "metadata": {
        "colab": {
          "base_uri": "https://localhost:8080/"
        },
        "id": "Z-MP0ZeWc9IQ",
        "outputId": "da22820c-df3a-4bd1-86fe-f6098554d668"
      },
      "execution_count": 84,
      "outputs": [
        {
          "output_type": "stream",
          "name": "stdout",
          "text": [
            "41\n"
          ]
        }
      ]
    },
    {
      "cell_type": "code",
      "source": [],
      "metadata": {
        "id": "70JUy2_HdPrL"
      },
      "execution_count": null,
      "outputs": []
    }
  ]
}