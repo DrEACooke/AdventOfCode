{
  "nbformat": 4,
  "nbformat_minor": 0,
  "metadata": {
    "colab": {
      "provenance": [],
      "toc_visible": true,
      "authorship_tag": "ABX9TyOt6wrCJ2uVTc8icHZpjWSL",
      "include_colab_link": true
    },
    "kernelspec": {
      "name": "python3",
      "display_name": "Python 3"
    },
    "language_info": {
      "name": "python"
    }
  },
  "cells": [
    {
      "cell_type": "markdown",
      "metadata": {
        "id": "view-in-github",
        "colab_type": "text"
      },
      "source": [
        "<a href=\"https://colab.research.google.com/github/DrEACooke/AdventOfCode/blob/main/Day1.ipynb\" target=\"_parent\"><img src=\"https://colab.research.google.com/assets/colab-badge.svg\" alt=\"Open In Colab\"/></a>"
      ]
    },
    {
      "cell_type": "markdown",
      "source": [
        "Day 1"
      ],
      "metadata": {
        "id": "hP4NmXdi4ifc"
      }
    },
    {
      "cell_type": "code",
      "source": [
        "#import modules\n",
        "import numpy as np"
      ],
      "metadata": {
        "id": "JURjKwDx4kcT"
      },
      "execution_count": null,
      "outputs": []
    },
    {
      "cell_type": "code",
      "execution_count": null,
      "metadata": {
        "id": "TrgbcdN34Z8W"
      },
      "outputs": [],
      "source": [
        "def generate_input(test=True):\n",
        "  if test:\n",
        "    locs_1 = [3,4,2,1,3,3]\n",
        "    locs_2 = [4,3,5,3,9,3]\n",
        "    return locs_1,locs_2\n",
        "  else:\n",
        "    inp_ = np.asarray(list(map(lambda x: x.split(),input.split('\\n')))).T\n",
        "    return [int(i) for i in inp_[0]],[int(j) for j in inp_[1]]"
      ]
    },
    {
      "cell_type": "code",
      "source": [
        "def calc_distances(list1, list2):\n",
        "  list1.sort()\n",
        "  list2.sort()\n",
        "\n",
        "  return [abs(l1-l2) for l1,l2 in zip(list1,list2)]"
      ],
      "metadata": {
        "id": "9TtSDUyY5seI"
      },
      "execution_count": null,
      "outputs": []
    },
    {
      "cell_type": "code",
      "source": [
        "def calc_similarity_score(list1, list2):\n",
        "  return sum([l1*list2.count(l1) for l1 in list1])"
      ],
      "metadata": {
        "id": "Xm97qMNI9VFF"
      },
      "execution_count": null,
      "outputs": []
    },
    {
      "cell_type": "code",
      "source": [
        "def get_total_distance(list1,list2):\n",
        "  return sum(calc_distances(list1,list2))"
      ],
      "metadata": {
        "id": "CyNixSIS6IFs"
      },
      "execution_count": null,
      "outputs": []
    },
    {
      "cell_type": "code",
      "source": [
        "print(get_total_distance(*generate_input(test=False)))"
      ],
      "metadata": {
        "colab": {
          "base_uri": "https://localhost:8080/"
        },
        "id": "v4Yq_-q34e18",
        "outputId": "9226a5a9-18fa-44e6-d8bd-c6cfe67ef6df"
      },
      "execution_count": null,
      "outputs": [
        {
          "output_type": "execute_result",
          "data": {
            "text/plain": [
              "2192892"
            ]
          },
          "metadata": {},
          "execution_count": 33
        }
      ]
    },
    {
      "cell_type": "code",
      "source": [
        "print(calc_similarity_score(*generate_input(test=False)))"
      ],
      "metadata": {
        "colab": {
          "base_uri": "https://localhost:8080/"
        },
        "id": "i1nqD4lO91PP",
        "outputId": "89f0f058-d4e9-4d29-b9cb-49653e9f397d"
      },
      "execution_count": null,
      "outputs": [
        {
          "output_type": "execute_result",
          "data": {
            "text/plain": [
              "22962826"
            ]
          },
          "metadata": {},
          "execution_count": 41
        }
      ]
    },
    {
      "cell_type": "code",
      "source": [
        "input = '''98415   86712\n",
        "21839   96206\n",
        "14958   40971\n",
        "91380   63825\n",
        "48482   40971\n",
        "47618   98239\n",
        "69295   72055\n",
        "73790   20692'''"
      ],
      "metadata": {
        "id": "67DMzpHXm7zt"
      },
      "execution_count": null,
      "outputs": []
    }
  ]
}