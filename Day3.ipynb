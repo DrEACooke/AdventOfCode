{
  "nbformat": 4,
  "nbformat_minor": 0,
  "metadata": {
    "colab": {
      "provenance": [],
      "authorship_tag": "ABX9TyMPVfh3jfIMHFPvF4qdW+8N",
      "include_colab_link": true
    },
    "kernelspec": {
      "name": "python3",
      "display_name": "Python 3"
    },
    "language_info": {
      "name": "python"
    }
  },
  "cells": [
    {
      "cell_type": "markdown",
      "metadata": {
        "id": "view-in-github",
        "colab_type": "text"
      },
      "source": [
        "<a href=\"https://colab.research.google.com/github/DrEACooke/AdventOfCode/blob/main/Day3.ipynb\" target=\"_parent\"><img src=\"https://colab.research.google.com/assets/colab-badge.svg\" alt=\"Open In Colab\"/></a>"
      ]
    },
    {
      "cell_type": "markdown",
      "source": [
        "Day 3"
      ],
      "metadata": {
        "id": "4IIi_xEhjc8l"
      }
    },
    {
      "cell_type": "code",
      "execution_count": null,
      "metadata": {
        "id": "c8F0yy0Gjbch"
      },
      "outputs": [],
      "source": [
        "import numpy as np\n",
        "import re"
      ]
    },
    {
      "cell_type": "code",
      "source": [
        "def generate_input(part,test=True):\n",
        "  if test:\n",
        "    if part == 1:\n",
        "      memory = \"xmul(2,4)%&mul[3,7]!@^do_not_mul(5,5)+mul(32,64]then(mul(11,8)mul(8,5))\"\n",
        "    if part == 2:\n",
        "      memory = \"xmul(2,4)&mul[3,7]!^don't()_mul(5,5)+mul(32,64](mul(11,8)undo()?mul(8,5))\"\n",
        "    return memory\n",
        "  else:\n",
        "    return input"
      ],
      "metadata": {
        "id": "3Ms5wNtMjhni"
      },
      "execution_count": null,
      "outputs": []
    },
    {
      "cell_type": "code",
      "source": [
        "def find_mul(s):\n",
        "  return re.findall(\"mul\\(\\d+,\\d+\\)\", s)"
      ],
      "metadata": {
        "id": "uSk1AhWblMnL"
      },
      "execution_count": null,
      "outputs": []
    },
    {
      "cell_type": "code",
      "source": [
        "def extract_and_multiply(s):\n",
        "  nums = re.findall(\"\\d+\",s)\n",
        "  return np.prod([int(n) for n in nums])"
      ],
      "metadata": {
        "id": "v6s5HWHBlXwQ"
      },
      "execution_count": null,
      "outputs": []
    },
    {
      "cell_type": "code",
      "source": [
        "def split_dont(s):\n",
        "  return s.split(\"don't()\")\n",
        "\n",
        "def split_do(s):\n",
        "  return s.split(\"do()\")"
      ],
      "metadata": {
        "id": "ioGNDfgHnyta"
      },
      "execution_count": null,
      "outputs": []
    },
    {
      "cell_type": "code",
      "source": [
        "#Part 1\n",
        "inp = generate_input(1,test=False)\n",
        "\n",
        "correct = find_mul(inp)\n",
        "\n",
        "print(sum(list(map(lambda x: extract_and_multiply(x), correct))))"
      ],
      "metadata": {
        "colab": {
          "base_uri": "https://localhost:8080/"
        },
        "id": "6lTIUOCvkA1g",
        "outputId": "7d030b1b-678f-41b8-9ee7-08656dfadf63"
      },
      "execution_count": null,
      "outputs": [
        {
          "output_type": "stream",
          "name": "stdout",
          "text": [
            "156388521\n"
          ]
        }
      ]
    },
    {
      "cell_type": "code",
      "source": [
        "#Part 2\n",
        "inp = generate_input(2,test=False)\n",
        "\n",
        "first_pass = split_dont(inp)\n",
        "tot = sum(list(map(lambda x: extract_and_multiply(x), find_mul(first_pass[0]))))\n",
        "\n",
        "for s_ in first_pass[1:]:\n",
        "  s = split_do(s_)\n",
        "  for subs in s[1:]:\n",
        "    tot += sum(list(map(lambda x: extract_and_multiply(x), find_mul(subs))))\n",
        "\n",
        "print(tot)"
      ],
      "metadata": {
        "colab": {
          "base_uri": "https://localhost:8080/"
        },
        "id": "MjA8PuPlnlRm",
        "outputId": "d6dc3f92-d7d1-432f-814a-ad63018ed58e"
      },
      "execution_count": null,
      "outputs": [
        {
          "output_type": "stream",
          "name": "stdout",
          "text": [
            "75920122\n"
          ]
        }
      ]
    },
    {
      "cell_type": "code",
      "source": [
        "input = '''where(536,162)~'what()what()how(220,399){ mul(5,253);mul(757,101)$where()@why()'''"
      ],
      "metadata": {
        "id": "Vh3hlNu3naY6"
      },
      "execution_count": null,
      "outputs": []
    }
  ]
}